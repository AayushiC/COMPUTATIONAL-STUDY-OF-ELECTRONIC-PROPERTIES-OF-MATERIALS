{
  "nbformat": 4,
  "nbformat_minor": 0,
  "metadata": {
    "colab": {
      "name": "1D Tight Binding Model",
      "provenance": [],
      "collapsed_sections": [],
      "authorship_tag": "ABX9TyOsBo2i/JRJ6tZ45cpBVNdj",
      "include_colab_link": true
    },
    "kernelspec": {
      "name": "python3",
      "display_name": "Python 3"
    },
    "language_info": {
      "name": "python"
    }
  },
  "cells": [
    {
      "cell_type": "markdown",
      "metadata": {
        "id": "view-in-github",
        "colab_type": "text"
      },
      "source": [
        "<a href=\"https://colab.research.google.com/github/AayushiC/COMPUTATIONAL-STUDY-OF-ELECTRONIC-PROPERTIES-OF-MATERIALS/blob/main/1D_Tight_Binding_Model.ipynb\" target=\"_parent\"><img src=\"https://colab.research.google.com/assets/colab-badge.svg\" alt=\"Open In Colab\"/></a>"
      ]
    },
    {
      "cell_type": "code",
      "metadata": {
        "id": "_AktaXIeK876"
      },
      "source": [
        "import numpy as np\n",
        "import matplotlib.pyplot as plt"
      ],
      "execution_count": null,
      "outputs": []
    },
    {
      "cell_type": "code",
      "metadata": {
        "colab": {
          "base_uri": "https://localhost:8080/"
        },
        "id": "a7hE2yVwLEsh",
        "outputId": "c8dbbe48-d73f-4584-cb9f-5ca0f6f69f74"
      },
      "source": [
        "# 1-D Lattice (1 atom basis)\n",
        "\n",
        "a = float(input(\"Distance between atoms: \"))\n",
        "N = int(input(\"Number of atoms: \"))\n",
        "e = float(input(\"On-site parameter: \"))\n",
        "t = float(input(\"Hopping parameter: \"))"
      ],
      "execution_count": null,
      "outputs": [
        {
          "output_type": "stream",
          "text": [
            "Distance between atoms: 2\n",
            "Number of atoms: 40\n",
            "On-site parameter: 0.25\n",
            "Hopping parameter: 0.5\n"
          ],
          "name": "stdout"
        }
      ]
    },
    {
      "cell_type": "code",
      "metadata": {
        "id": "yAIzVej8NUh2"
      },
      "source": [
        "# Constructing the Hamiltonian\n",
        "\n",
        "H = np.zeros((N,N))\n",
        "for i in range(N):\n",
        "  for j in range(N):\n",
        "    if i==j:\n",
        "      H[i][j] = e\n",
        "    if j == i-1 or j == i+1:\n",
        "      H[i][j] = t"
      ],
      "execution_count": null,
      "outputs": []
    },
    {
      "cell_type": "code",
      "metadata": {
        "id": "1IN4KZmrNmA0"
      },
      "source": [
        "# Determining Eigen Values and Eigen Vectors from the Hamiltonian Matrix\n",
        "\n",
        "E,P = np.linalg.eig(H)\n",
        "E = np.sort(E)"
      ],
      "execution_count": null,
      "outputs": []
    },
    {
      "cell_type": "code",
      "metadata": {
        "colab": {
          "base_uri": "https://localhost:8080/",
          "height": 305
        },
        "id": "MjNAb7_HNuJX",
        "outputId": "0ac99c80-b2d9-49cf-8c04-49e9103fba7b"
      },
      "source": [
        "# Plotting E vs k \n",
        "\n",
        "E_ = np.concatenate((np.flip(E),E))\n",
        "k = np.linspace(-1*np.pi/a, np.pi/a, 2*N)\n",
        "\n",
        "fig, ax = plt.subplots()\n",
        "ax.set_xlim(-np.pi/a, np.pi/a)\n",
        "ax.set_title('Tight Binding Model (1D Lattice, 1 atom basis), $N='+str(N)+', a='+str(a)+'$')\n",
        "ax.set_ylabel('$E$')\n",
        "ax.set_xlabel('$k$')\n",
        "ax.axvline(x=0,color='black')\n",
        "ax.plot(k, E_, 'ro', label='Eigenvalues of H')\n",
        "ax.set_xticks(k)\n",
        "xlabels = ['' for x in k]\n",
        "xlabels[0] = '$-\\\\frac{\\pi}{a}$'\n",
        "xlabels[-1] = '$\\\\frac{\\pi}{a}$'\n",
        "ax.set_xticklabels(xlabels)\n",
        "ax.grid(True)\n",
        "fig.savefig('1D TB plot.png')\n"
      ],
      "execution_count": null,
      "outputs": [
        {
          "output_type": "display_data",
          "data": {
            "image/png": "[encoded data removed]",
            "text/plain": [
              "<Figure size 432x288 with 1 Axes>"
            ]
          },
          "metadata": {
            "needs_background": "light"
          }
        }
      ]
    }
  ]
}