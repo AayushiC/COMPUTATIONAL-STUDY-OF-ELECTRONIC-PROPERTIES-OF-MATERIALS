{
  "nbformat": 4,
  "nbformat_minor": 0,
  "metadata": {
    "colab": {
      "name": "2D Tight Binding Model : Square Lattice",
      "provenance": [],
      "collapsed_sections": [],
      "authorship_tag": "ABX9TyP/6hLkomQB8vRi8ruv+wVl",
      "include_colab_link": true
    },
    "kernelspec": {
      "display_name": "Python 3",
      "name": "python3"
    },
    "language_info": {
      "name": "python"
    }
  },
  "cells": [
    {
      "cell_type": "markdown",
      "metadata": {
        "id": "view-in-github",
        "colab_type": "text"
      },
      "source": [
        "<a href=\"https://colab.research.google.com/github/AayushiC/COMPUTATIONAL-STUDY-OF-ELECTRONIC-PROPERTIES-OF-MATERIALS/blob/main/2D_Tight_Binding_Model_Square_Lattice.ipynb\" target=\"_parent\"><img src=\"https://colab.research.google.com/assets/colab-badge.svg\" alt=\"Open In Colab\"/></a>"
      ]
    },
    {
      "cell_type": "code",
      "metadata": {
        "id": "_AktaXIeK876"
      },
      "source": [
        "import numpy as np\n",
        "import matplotlib.pyplot as plt\n",
        "from mpl_toolkits import mplot3d"
      ],
      "execution_count": null,
      "outputs": []
    },
    {
      "cell_type": "code",
      "metadata": {
        "id": "oqgEfATEcxn3",
        "colab": {
          "base_uri": "https://localhost:8080/"
        },
        "outputId": "194b51a2-a513-48d8-e136-add618b4d479"
      },
      "source": [
        "Lx = int(input(\"Total length of chain in x direction: \"))\n",
        "Ly = int(input(\"Total length of chain in y direction: \"))\n",
        "Nx = int(input(\"Number of atoms in x direction: \"))\n",
        "Ny = int(input(\"Number of atoms in y direction: \"))\n",
        "e = float(input(\"On-site parameter: \"))\n",
        "t = float(input(\"Hopping parameter: \"))"
      ],
      "execution_count": null,
      "outputs": [
        {
          "name": "stdout",
          "output_type": "stream",
          "text": [
            "Total length of chain in x direction: 40\n",
            "Total length of chain in y direction: 40\n",
            "Number of atoms in x direction: 40\n",
            "Number of atoms in y direction: 40\n",
            "On-site parameter: 0\n",
            "Hopping parameter: 1\n"
          ]
        }
      ]
    },
    {
      "cell_type": "code",
      "metadata": {
        "id": "f2Qymm2ycyby"
      },
      "source": [
        "# Constructing the Hamiltonian\n",
        "\n",
        "POS = np.zeros((Nx,Ny),int)\n",
        "Nlist = np.zeros((Nx*Ny,4),int)\n",
        "\n",
        "count = 0\n",
        "for i in range(Nx):\n",
        "  for j in range(Ny):\n",
        "    POS[i,j] = count\n",
        "    count+=1\n",
        "\n",
        "count = 0\n",
        "for i in range(Nx):\n",
        "  for j in range(Ny):\n",
        "    Nlist[count,0] = POS[(i+Nx-1)%Nx,j]\n",
        "    Nlist[count,1] = POS[(i+Nx+1)%Nx,j]\n",
        "    Nlist[count,2] = POS[i,(j+Ny-1)%Ny]\n",
        "    Nlist[count,3] = POS[i,(j+Ny+1)%Ny]\n",
        "    count+=1\n",
        "\n",
        "count = 0\n",
        "H = np.zeros((Nx*Ny,Nx*Ny))\n",
        "for i in range(Nx*Ny):\n",
        "  for j in range(Nx*Ny):\n",
        "    if i==j:\n",
        "      H[i,j] = e\n",
        "    elif j in Nlist[i]:\n",
        "      H[i,j] = t"
      ],
      "execution_count": null,
      "outputs": []
    },
    {
      "cell_type": "code",
      "metadata": {
        "id": "B890zgYQcyqO"
      },
      "source": [
        "# Determining Eigen Values and Eigen Vectors from the Hamiltonian Matrix\n",
        "\n",
        "E,W = np.linalg.eig(H)"
      ],
      "execution_count": null,
      "outputs": []
    },
    {
      "cell_type": "code",
      "metadata": {
        "colab": {
          "base_uri": "https://localhost:8080/",
          "height": 301
        },
        "id": "cS4B5iWbc090",
        "outputId": "89643f14-967a-488f-df85-8277cc4dd843"
      },
      "source": [
        "# Plotting Density of States vs Energy\n",
        "\n",
        "_E = np.real(np.sort(E))\n",
        "ene = np.linspace(-4.0*t,4.0*t,Lx)\n",
        "DOS = np.zeros(Lx)\n",
        "de = 8.0*t/Lx\n",
        "for i in range(Lx):\n",
        "  eh = -4.0*t + i*de + de/2.0\n",
        "  el = -4.0*t + i*de - de/2.0\n",
        "  s = 0\n",
        "  for j in range(Nx*Ny):\n",
        "    if _E[j] >= el and _E[j] <=eh:\n",
        "      s += 1\n",
        "  DOS[i] = s\n",
        "\n",
        "fig, ax = plt.subplots()\n",
        "ax.set_title('Tight Binding Model (2D Square Lattice, 1 atom basis), $N='+str(Nx*Ny)+', $Lx='+str(Lx)+', Ly='+str(Ly))\n",
        "ax.set_ylabel('$DOS$')\n",
        "ax.set_xlabel('$Energy$')\n",
        "ax.plot(ene,DOS)\n",
        "ax.grid(True)"
      ],
      "execution_count": null,
      "outputs": [
        {
          "output_type": "display_data",
          "data": {
            "image/png": "[encoded data removed]",
            "text/plain": [
              "<Figure size 432x288 with 1 Axes>"
            ]
          },
          "metadata": {
            "needs_background": "light"
          }
        }
      ]
    }
  ]
}