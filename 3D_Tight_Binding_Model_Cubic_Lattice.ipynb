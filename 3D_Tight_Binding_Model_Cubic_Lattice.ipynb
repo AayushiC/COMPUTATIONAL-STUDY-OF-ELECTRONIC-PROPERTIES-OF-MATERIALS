{
  "nbformat": 4,
  "nbformat_minor": 0,
  "metadata": {
    "colab": {
      "name": "3D Tight Binding Model : Cubic Lattice",
      "provenance": [],
      "collapsed_sections": [],
      "authorship_tag": "ABX9TyNVOtN0QP92AQ+iP07GqGrQ",
      "include_colab_link": true
    },
    "kernelspec": {
      "name": "python3",
      "display_name": "Python 3"
    },
    "language_info": {
      "name": "python"
    }
  },
  "cells": [
    {
      "cell_type": "markdown",
      "metadata": {
        "id": "view-in-github",
        "colab_type": "text"
      },
      "source": [
        "<a href=\"https://colab.research.google.com/github/AayushiC/COMPUTATIONAL-STUDY-OF-ELECTRONIC-PROPERTIES-OF-MATERIALS/blob/main/3D_Tight_Binding_Model_Cubic_Lattice.ipynb\" target=\"_parent\"><img src=\"https://colab.research.google.com/assets/colab-badge.svg\" alt=\"Open In Colab\"/></a>"
      ]
    },
    {
      "cell_type": "code",
      "metadata": {
        "id": "_AktaXIeK876"
      },
      "source": [
        "import numpy as np\n",
        "import matplotlib.pyplot as plt\n",
        "from mpl_toolkits import mplot3d"
      ],
      "execution_count": 2,
      "outputs": []
    },
    {
      "cell_type": "code",
      "metadata": {
        "id": "oqgEfATEcxn3",
        "colab": {
          "base_uri": "https://localhost:8080/"
        },
        "outputId": "096468b8-9675-42c4-e61e-66a0def4c89d"
      },
      "source": [
        "Lx = int(input(\"Total length of chain in x direction: \"))\n",
        "Ly = int(input(\"Total length of chain in y direction: \"))\n",
        "Lz = int(input(\"Total length of chain in z direction: \"))\n",
        "Nx = int(input(\"Number of atoms in x direction: \"))\n",
        "Ny = int(input(\"Number of atoms in y direction: \"))\n",
        "Nz = int(input(\"Number of atoms in z direction: \"))\n",
        "e = float(input(\"On-site parameter: \"))\n",
        "t = float(input(\"Hopping parameter: \"))"
      ],
      "execution_count": 3,
      "outputs": [
        {
          "name": "stdout",
          "output_type": "stream",
          "text": [
            "Total length of chain in x direction: 20\n",
            "Total length of chain in y direction: 20\n",
            "Total length of chain in z direction: 20\n",
            "Number of atoms in x direction: 20\n",
            "Number of atoms in y direction: 20\n",
            "Number of atoms in z direction: 20\n",
            "On-site parameter: 0\n",
            "Hopping parameter: 1\n"
          ]
        }
      ]
    },
    {
      "cell_type": "code",
      "metadata": {
        "id": "f2Qymm2ycyby"
      },
      "source": [
        "# Constructing the Hamiltonian\n",
        "\n",
        "POS = np.zeros((Nx,Ny,Nz),int)\n",
        "Nlist = np.zeros((Nx*Ny*Nz,6),int)\n",
        "\n",
        "count = 0\n",
        "for i in range(Nx):\n",
        "  for j in range(Ny):\n",
        "    for l in range(Nz):\n",
        "      POS[i,j,l] = count\n",
        "      count+=1\n",
        "\n",
        "count = 0\n",
        "for i in range(Nx):\n",
        "  for j in range(Ny):\n",
        "    for l in range(Nz):\n",
        "      Nlist[count,0] = POS[(i+Nx-1)%Nx,j,l]\n",
        "      Nlist[count,1] = POS[(i+Nx+1)%Nx,j,l]\n",
        "      Nlist[count,2] = POS[i,(j+Ny-1)%Ny,l]\n",
        "      Nlist[count,3] = POS[i,(j+Ny+1)%Ny,l]\n",
        "      Nlist[count,4] = POS[i,j,(l+Nz-1)%Nz]\n",
        "      Nlist[count,5] = POS[i,j,(l+Nz+1)%Nz]\n",
        "      count+=1\n",
        "\n",
        "H = np.zeros((Nx*Ny*Nz,Nx*Ny*Nz))\n",
        "for i in range(Nx*Ny*Nz):\n",
        "  for j in range(Nx*Ny*Nz):\n",
        "    if i==j:\n",
        "      H[i,j] = e\n",
        "    elif j in Nlist[i]:\n",
        "      H[i,j] = t"
      ],
      "execution_count": 4,
      "outputs": []
    },
    {
      "cell_type": "code",
      "metadata": {
        "id": "B890zgYQcyqO"
      },
      "source": [
        "# Determining Eigen Values and Eigen Vectors from the Hamiltonian Matrix\n",
        "\n",
        "E,W = np.linalg.eig(H)"
      ],
      "execution_count": 5,
      "outputs": []
    },
    {
      "cell_type": "code",
      "metadata": {
        "id": "5A60abep1mlM",
        "colab": {
          "base_uri": "https://localhost:8080/",
          "height": 301
        },
        "outputId": "6399a0e6-8f5b-4643-813a-fdd4d2b3effd"
      },
      "source": [
        "# Plotting Density of States vs Energy\n",
        "\n",
        "_E = np.real(np.sort(E))\n",
        "ene = np.linspace(-6.0*t,6.0*t,Lx)\n",
        "DOS = np.zeros(Lx)\n",
        "de = 12.0*t/Lx\n",
        "for i in range(Lx):\n",
        "  eh = -6.0*t + i*de + de/2.0\n",
        "  el = -6.0*t + i*de - de/2.0\n",
        "  s = 0\n",
        "  for j in range(Nx*Ny*Nz):\n",
        "    if _E[j] >= el and _E[j] <=eh:\n",
        "      s += 1\n",
        "  DOS[i] = s\n",
        "\n",
        "fig, ax = plt.subplots()\n",
        "ax.set_title('Tight Binding Model (3D Cubic Lattice, 1 atom basis), $N='+str(Nx*Ny*Nz)+', $Lx='+str(Lx)+', $Ly='+str(Ly)+', $Lz='+str(Lz))\n",
        "ax.set_ylabel('$DOS$')\n",
        "ax.set_xlabel('$Energy$')\n",
        "ax.plot(ene,DOS)\n",
        "ax.grid(True)"
      ],
      "execution_count": 6,
      "outputs": [
        {
          "output_type": "display_data",
          "data": {
            "image/png": "[encoded data removed]",
            "text/plain": [
              "<Figure size 432x288 with 1 Axes>"
            ]
          },
          "metadata": {
            "needs_background": "light"
          }
        }
      ]
    }
  ]
}